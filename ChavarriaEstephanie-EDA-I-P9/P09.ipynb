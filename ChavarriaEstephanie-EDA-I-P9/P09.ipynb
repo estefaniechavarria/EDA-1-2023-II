{
 "cells": [
  {
   "cell_type": "code",
   "execution_count": null,
   "metadata": {
    "vscode": {
     "languageId": "plaintext"
    }
   },
   "outputs": [],
   "source": [
    "#Inicializacion de variables \n",
    "x = 10 #Variable tipo entero.\n",
    "print(x) #funcion para imprimir los valores de las variables.\n",
    "#Se pueden tilizar comillas dobles o simples para crear una cadena.\n",
    "cadena = \"Hola Mundo\"\n",
    "print(cadena)"
   ]
  },
  {
   "cell_type": "code",
   "execution_count": null,
   "metadata": {
    "vscode": {
     "languageId": "plaintext"
    }
   },
   "outputs": [],
   "source": [
    "#Asigna un mismo valor a tres variables.\n",
    "x = y = z = 10\n",
    "print(x, y, z)"
   ]
  },
  {
   "cell_type": "code",
   "execution_count": null,
   "metadata": {
    "vscode": {
     "languageId": "plaintext"
    }
   },
   "outputs": [],
   "source": [
    "#La funcion type() permite conocer el tipo de una variable.\n",
    "type(x)\n",
    "int\n",
    "type(cadena)\n",
    "str\n",
    "#Se puede cambiar el valor de las variables y el tipo se cambia automaticamente.\n",
    "x = \"Hola mundo\"\n",
    "cadena = 10\n",
    "\n"
   ]
  },
  {
   "cell_type": "code",
   "execution_count": null,
   "metadata": {
    "vscode": {
     "languageId": "plaintext"
    }
   },
   "outputs": [],
   "source": [
    "type (x)\n",
    "str"
   ]
  },
  {
   "cell_type": "code",
   "execution_count": null,
   "metadata": {
    "vscode": {
     "languageId": "plaintext"
    }
   },
   "outputs": [],
   "source": [
    "type (cadena)\n",
    "int"
   ]
  },
  {
   "attachments": {},
   "cell_type": "markdown",
   "metadata": {},
   "source": [
    "Cadenas\n",
    "Las cadenas pueden ser definidas usando comilla simple (') o comilla doble (\"). Una\n",
    "característica especial de las cadenas es que son inmutables, esto quiere decir que no se\n",
    "pueden cambiar los caracteres que contiene. El caracter \\ sirve para escapar carcteres\n",
    "como \\n o \\t."
   ]
  },
  {
   "cell_type": "code",
   "execution_count": null,
   "metadata": {
    "vscode": {
     "languageId": "plaintext"
    }
   },
   "outputs": [],
   "source": [
    "#Inicializando cadenas \n",
    "cadena1 = 'Hola'\n",
    "cadena2 = \"Mundo\"\n",
    "print(cadena1)\n",
    "print(cadena2)\n",
    "concat_cadenas = cadena1 + cadena2 #Concatenacion de canedas.\n",
    "print(concat_cadenas)"
   ]
  },
  {
   "cell_type": "code",
   "execution_count": null,
   "metadata": {
    "vscode": {
     "languageId": "plaintext"
    }
   },
   "outputs": [],
   "source": [
    "#Para concatenar un numero y una cadena se debe usar la funcion str()\n",
    "num_cadena = concat_cadenas + ' '+ str(3) #Se agrega una cadena vacia para agregar un espacio \n",
    "print(num_cadena)"
   ]
  },
  {
   "attachments": {},
   "cell_type": "markdown",
   "metadata": {},
   "source": [
    "Para concatenar cadenas se recomienda el uso de la función format(), en lugar del viejo\n",
    "estilo del operador '+'."
   ]
  },
  {
   "cell_type": "code",
   "execution_count": null,
   "metadata": {
    "vscode": {
     "languageId": "plaintext"
    }
   },
   "outputs": [],
   "source": [
    "#El valor de la variable se va a imprimir en el lugar donde se encuentre {} en la cadena.\n",
    "num_cadena = \"{} {} {}\".format(cadena1, cadena2, 3)\n",
    "print(num_cadena)"
   ]
  },
  {
   "attachments": {},
   "cell_type": "markdown",
   "metadata": {},
   "source": [
    "Por medio de la función format, se puede cambiar el orden en que se imprimen las\n",
    "variables:\n"
   ]
  },
  {
   "cell_type": "code",
   "execution_count": null,
   "metadata": {
    "vscode": {
     "languageId": "plaintext"
    }
   },
   "outputs": [],
   "source": [
    "#Cuando se agrega un numero dentro de {#}, el valor la variable que se encuentra en esa posicion\n",
    "#dentro de la funcion format(.), sera impreso.\n",
    "num_cadena = \"Cambiando el orden: {1} {2} {0} a\", format(cadena1, cadena2, 3)\n",
    "print(num_cadena)"
   ]
  },
  {
   "attachments": {},
   "cell_type": "markdown",
   "metadata": {},
   "source": [
    "Operadores\n",
    "Aritmeticos +, -, *, /"
   ]
  },
  {
   "cell_type": "code",
   "execution_count": null,
   "metadata": {
    "vscode": {
     "languageId": "plaintext"
    }
   },
   "outputs": [],
   "source": [
    "#Para el exponente se puede utilizar asterisco.\n",
    "print(1 + 5)\n",
    "print(6 * 3)\n",
    "print(10 - 4)\n",
    "print(1010 / 50)\n",
    "print(10 % 2)\n",
    "print({20 * } * {12 + 2} / 10)\n",
    "print(2 **2)\n"
   ]
  },
  {
   "attachments": {},
   "cell_type": "markdown",
   "metadata": {},
   "source": [
    "Boleanos: and, not, or\n",
    "False and True"
   ]
  },
  {
   "attachments": {},
   "cell_type": "markdown",
   "metadata": {},
   "source": [
    "Comparacion: <, >, >=, =<, =="
   ]
  },
  {
   "cell_type": "code",
   "execution_count": null,
   "metadata": {
    "vscode": {
     "languageId": "plaintext"
    }
   },
   "outputs": [],
   "source": [
    "print(7 < 5) #Falso\n",
    "print(7 > 5) #Verdadero\n",
    "print((11 * 3)+2 ==36 -1) #Verdadero\n",
    "print((11 * 3)+ 2 >= 36) #Falso\n",
    "print('curso' != \"Curso\") #Verdadero\n"
   ]
  },
  {
   "attachments": {},
   "cell_type": "markdown",
   "metadata": {},
   "source": [
    "Listas\n",
    "Básicamente son valores que están separados por comas dentro de paréntesis\n",
    "cuadrados.\n",
    "Está compuesta por cualquier cantidad y/o tipo de datos, ya sean cadenas,\n",
    "caracteres, números e inclusive otras listas.\n",
    "Se puede acceder a las listas por medio de índices, estos índices comienzan desde 0\n",
    "hasta el número de elementos menos 1.\n",
    "Las listas son mutables."
   ]
  },
  {
   "cell_type": "code",
   "execution_count": null,
   "metadata": {
    "vscode": {
     "languageId": "plaintext"
    }
   },
   "outputs": [],
   "source": [
    "#Declaracion de una lista simple.\n",
    "lista_diasDelMes=[31,28,31,30,31,30,31,31,30,31,30,31]\n",
    "print (lista_diasDelMes) #Imprimir la lista completa.\n",
    "print (lista_diasDelMes[0]) #Imprimir elemento 1\n",
    "print (lista_diasDelMes[6]) #Imprimir elemento 7\n",
    "print (lista_diasDelMes[11]) #Imprimir elemento 12"
   ]
  },
  {
   "cell_type": "code",
   "execution_count": null,
   "metadata": {
    "vscode": {
     "languageId": "plaintext"
    }
   },
   "outputs": [],
   "source": [
    "#Declaracion de listas anidadas\n",
    "lista_numeros= [['cero', 0], ['uno', 1], ['tres', 3], ['cuatro', 4], ['x', 5]]\n",
    "print(lista_numeros) #Imprimir lista completa.\n",
    "print(lista_numeros[0]) #Imprimir el numero 0 de la lista.\n",
    "print(lista_numeros[2][0]) #Imprimir el primer elemento de la lista en la posicion 2.\n",
    "print(lista_numeros[2][1]) #Imprimir el segundo elemento de la lista posicion 2.\n",
    "\n",
    "print(lista_numeros[1][0])\n",
    "print(lista_numeros[1][1])\n",
    "print(lista_numeros[1][2])"
   ]
  },
  {
   "attachments": {},
   "cell_type": "markdown",
   "metadata": {},
   "source": [
    "Tuplas\n",
    "Son pareceidas a las listas, valores separados por una coma.\n",
    "Comparadas con las listas, las tuplas no son mutables.\n",
    "Se pueden aplicar las mismas operaciones que en as listas y su ventaja es que\n",
    "consumen menos memoria para almacenarse.\n",
    "Se crean, ya sea utilizando paréntesis o simplemente separando los valores por\n",
    "comas"
   ]
  },
  {
   "cell_type": "code",
   "execution_count": null,
   "metadata": {
    "vscode": {
     "languageId": "plaintext"
    }
   },
   "outputs": [],
   "source": [
    "#Declaracion de una tupla.\n",
    "tupla_diasDelMes=(31,28,31,30,31,30,31,30,31,30,31)\n",
    "\n",
    "print(tupla_diasDelMes) #Imprime la tupla completa\n",
    "print(tupla_diasDelMes[0]) #Imprimir el elemento 1.\n",
    "print(tupla_diasDelMes[3]) #Imprimir el elemento 4.\n",
    "print(tupla_diasDelMes[1]) #Imprimir elemento 2.\n"
   ]
  },
  {
   "cell_type": "code",
   "execution_count": null,
   "metadata": {
    "vscode": {
     "languageId": "plaintext"
    }
   },
   "outputs": [],
   "source": [
    "#Declaracion de tuplas anidadas.\n",
    "tupla_numeros=(('cero', 0), ('uno' 1, 'UNO'), ('dos', 2), ('tres', 3), ('cuatro', 4), ('x', 5))\n",
    "print(tupla_numeros) #Imprimir tupla completa.\n",
    "print(tupla_numeros[0]) #Imprime el elemento 0 de la tupla.\n",
    "print(tupla_numeros[1]) #Imprime el elemento 1 de la tupla.\n",
    "print(tupla_numeros[2][0]) #Imprime el elemento 1 de la tupla en la posicion 2\n",
    "print(tupla_numeros[2][1]) #Imprime el segundo elemento de la tupla en la posicion 2\n",
    "print(tupla_numeros[1][0])\n",
    "print(tupla_numeros[1][1])\n",
    "print(tupla_numeros[1][2])"
   ]
  },
  {
   "cell_type": "code",
   "execution_count": null,
   "metadata": {
    "vscode": {
     "languageId": "plaintext"
    }
   },
   "outputs": [],
   "source": [
    "#Probando la mutabilidad de las listas vs la no mutabilidad de las tuplas.\n",
    "print(\"valor actual{}\".format(lista_diasDelMes[0]))\n",
    "lista_diasDelMes[0]=50\n",
    "print(\"valor cambiado {}\".format(lista_diasDelMes[0]))\n",
    "tupla_diaSDelMes[0] = 50 #Esta asignacion marca un error ya que no se pueden cambiar los valores.\n"
   ]
  },
  {
   "attachments": {},
   "cell_type": "markdown",
   "metadata": {},
   "source": [
    "Tupla con nombre\n",
    "En comparación con las tuplas anteriores, este tipo especial de tuplas permite especificar\n",
    "un nombre para describirla.\n"
   ]
  },
  {
   "cell_type": "code",
   "execution_count": null,
   "metadata": {
    "vscode": {
     "languageId": "plaintext"
    }
   },
   "outputs": [],
   "source": [
    "#Se debe importar la libreria para hacer uso de namedtuple.\n",
    "#Se crea la tupla con nombre.\n",
    "#El primer argumento es el nombre de la tupla, mientras que el segundo argumento son los campos.\n",
    "#p es la referencia de la tupla.\n",
    "planeta = planeta('Mercurio', i)\n",
    "print(planeta1)\n",
    "\n",
    "#Se crea el planeta 2\n",
    "planeta2 = planeta('Venuds', Z)\n",
    "\n",
    "#Se imprimen los valores de los campos.\n",
    "print(planeta1.nombre, planeta1.numero)\n",
    "#Se obtienen los valores por el orden de los campos.\n",
    "print(planeta2[0], planeta2[1])\n",
    "print('Campos de la tupla: ()'.format(planeta1. fields))\n"
   ]
  },
  {
   "attachments": {},
   "cell_type": "markdown",
   "metadata": {},
   "source": [
    "Diccionarios\n",
    "Un diccionario se crea usando { } y consta de dos partes: llave y valor.\n",
    "Las llaves son inmutables, deben de tener un solo tipo de dato, una cadena o\n",
    "número. Una vez que es creado, no se puede cambiar su tipo.\n",
    "Mientras que el valor puede ser de cualquier tipo y se puede cambiar con el\n",
    "tiempo.\n",
    "Los elemntos en un diccionario no están ordenado"
   ]
  },
  {
   "cell_type": "code",
   "execution_count": null,
   "metadata": {
    "vscode": {
     "languageId": "plaintext"
    }
   },
   "outputs": [],
   "source": [
    "#Creando un diccionario.\n",
    "elementos = { 'hidrogeno' : 1, 'helio' : 2, 'carbon': 6}\n",
    "#El momento de la impresion, puede aparecer en diferente orden del introducido.\n",
    "print(elementos)\n",
    "print(elementos['hidrogeno'])"
   ]
  }
 ],
 "metadata": {
  "language_info": {
   "name": "python"
  },
  "orig_nbformat": 4
 },
 "nbformat": 4,
 "nbformat_minor": 2
}
